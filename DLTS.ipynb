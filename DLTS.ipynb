{
 "cells": [
  {
   "cell_type": "markdown",
   "id": "6ed798ac",
   "metadata": {},
   "source": [
    "# Khai báo thư viện"
   ]
  },
  {
   "cell_type": "code",
   "execution_count": 1,
   "id": "5c20bf65",
   "metadata": {},
   "outputs": [],
   "source": [
    "import pandas as pd\n",
    "import re\n",
    "from underthesea import word_tokenize"
   ]
  },
  {
   "cell_type": "code",
   "execution_count": 2,
   "id": "9c989989",
   "metadata": {},
   "outputs": [],
   "source": [
    "# Đọc dữ liệu\n",
    "df = pd.read_csv('tuyensinh.csv')\n",
    "def clean_comment(text):\n",
    "     # Kiểm tra nếu text không xác định\n",
    "    if pd.isna(text):\n",
    "        return \"\"\n",
    "    # Chuyển đổi chữ hoa thành chữ thường\n",
    "    text = text.lower()\n",
    "    # bỏ link\n",
    "    text = re.sub(r\"http\\S+|www\\S+\", \"\", text)\n",
    "    # bỏ mention và hashtag\n",
    "    text = re.sub(r\"@\\w+|#\\w+\", \" \", text)\n",
    "    # Loại bỏ email\n",
    "    text = re.sub(r'\\S+@\\S+', ' ', text)\n",
    "    # Loại bỏ số điện thoại\n",
    "    text = re.sub(r'\\b\\d{10,11}\\b', ' ', text)\n",
    "    # chỉ giữ lại chữ cái, khoảng trắng, số và dấu câu cơ bản\n",
    "    text = re.sub(r\"[^a-zA-ZÀ-ỹà-ỹ0-9\\s. /]\", \" \", text)\n",
    "    # Loại bỏ khoảng trắng thừa\n",
    "    text = re.sub(r'\\s+', ' ', text).strip() \n",
    "    # Loại bỏ các ký tự lặp lại hơn 2 lần liên tiếp\n",
    "    text = re.sub(r'(.)\\1+', r'\\1\\1', text)\n",
    "    # Ánh xạ các từ viết tắt thông dụng\n",
    "    replace_dict = {\n",
    "        'k': 'không','ko': 'không','kh': 'không','hok': 'không','j': 'gì','r': 'rồi','dc': 'được','đc': 'được','vs': 'với','cx': 'cũng','trc': 'trước','ds': 'danh sách',\n",
    "        'ch': 'chưa','v': 'vậy','z': 'vậy','cb': 'các bạn','lg': 'lượng','in4': 'thông tin','ntn': 'như thế nào','bn': 'bạn','bh': 'bao giờ','trg': 'trường','lmj': 'làm gì',\n",
    "        'sv': 'sinh viên','ad': 'admin','mn': 'mọi người','kt': 'kiểm tra','e': 'em','a': 'anh','ae': 'anh em','c': 'chị','t': 'tôi','b': 'bạn','mk': 'mình','rùi': 'rồi',\n",
    "        'đh': 'đại học','thpt': 'trung học phổ thông','ng': 'người','h': 'giờ','ptien': 'phương tiện','fb': 'facebook','tsv': 'tân sinh viên','tb': 'thông báo','ktx': 'kí túc xá',\n",
    "        'clb': 'câu lạc bộ','cntt': 'công nghệ thông tin','chx':'chưa','hs': 'hồ sơ','hb': 'học bạ','clc': 'chất lượng cao','kq': 'kết quả','ny': 'người yêu','đk': 'đăng ký',\n",
    "        'tmdt': 'thương mại điện tử','m': 'mày','bt': 'biết','đzai': 'đẹp trai','ktpm': 'kỹ thuật phần mềm','tyeu': 'tình yêu','dt vt': 'điện tử viễn thông','nv': 'nguyện vọng',\n",
    "        'ktđ đt': 'kỹ thuật điện điện tử','tkđh': 'thiết kế đồ họa','tkdh': 'thiết kế đồ họa','cn' : 'công nghệ','xh': 'xã hội','đhoc': 'đại học','nm': 'nhưng mà','cmt': 'comment',\n",
    "        'khmt':'khoa học máy tính','tnv': 'tình nguyện viên','tv': 'thành viên','tgia': 'tham gia','ngyeu': 'người yêu','cbi': 'chuẩn bị','nhg': 'nhưng','thg':'thằng','đg':'đường',\n",
    "        'thk':'thằng','kte':'kinh tế','ktmt':'kỹ thuật máy tính','nthe':'như thế','cnoto':'công nghệ ô tô','tr': 'trường','dki': 'đăng ký','đki': 'đăng ký','cmay':'chúng mày',\n",
    "        'gét gô': 'get go','omg': 'oh my god','yc': 'yêu cầu','hk': 'học'\n",
    "    }\n",
    "    for key, value in replace_dict.items():\n",
    "        pattern = r\"\\b\" + re.escape(key) + r\"\\b\"\n",
    "        text = re.sub(pattern, value, text)\n",
    "    \n",
    "    return text\n",
    "\n",
    "# Áp dụng hàm làm sạch vào cột 'comment'\n",
    "df['comment_cleaned'] = df['comment'].apply(clean_comment)\n",
    "# Loại bỏ dòng trùng lặp\n",
    "df = df.drop_duplicates(subset=['full_name', 'comment'])\n",
    "# Xóa các dòng có comment_cleaned trống\n",
    "df = df[df['comment_cleaned'].str.strip() != \"\"]\n",
    "# Loại bỏ các bình luận spam hoặc quảng cáo \n",
    "spam_keywords = [\n",
    "    'tuyển dụng', 'học bổng', 'model', 'casting', 'tuyển tình nguyện viên',\n",
    "    'laptop', 'phòng trọ', 'cho thuê', 'bán', 'mua', 'giảm giá', 'khuyến mãi',\n",
    "    'liên hệ', 'zalo', 'model','đài loan', 'học bổng toàn phần', 'ưu đãi', 'hotline','event',\n",
    "] \n",
    "def is_spam(text):\n",
    "    if not text or pd.isna(text):\n",
    "        return False\n",
    "    for kw in spam_keywords:\n",
    "        if kw in text.lower():\n",
    "            return True\n",
    "    return False\n",
    "df = df[~df['comment_cleaned'].apply(is_spam)]\n",
    "\n",
    "# Tách từ bằng underthesea\n",
    "def tokenize_text(text):\n",
    "    if text.strip():\n",
    "        text = word_tokenize(text, format=\"text\")\n",
    "    return text\n",
    "# df['comment_cleaned'] = df['comment_cleaned'].apply(tokenize_text)\n",
    "\n",
    "# Xuất ra file CSV sau khi làm sạch dữ liệu\n",
    "df.to_csv(\"tuyensinh_cleaned.csv\", index=False, encoding=\"utf-8-sig\")\n",
    "# Xem kết quả\n",
    "# df[1:50]"
   ]
  }
 ],
 "metadata": {
  "kernelspec": {
   "display_name": "Python 3",
   "language": "python",
   "name": "python3"
  },
  "language_info": {
   "codemirror_mode": {
    "name": "ipython",
    "version": 3
   },
   "file_extension": ".py",
   "mimetype": "text/x-python",
   "name": "python",
   "nbconvert_exporter": "python",
   "pygments_lexer": "ipython3",
   "version": "3.11.9"
  }
 },
 "nbformat": 4,
 "nbformat_minor": 5
}
